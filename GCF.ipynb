{
 "cells": [
  {
   "cell_type": "raw",
   "id": "c1b084b7-22c8-489d-b918-d2291d2f05f1",
   "metadata": {
    "tags": []
   },
   "source": [
    "---\n",
    "title: \"Geocentric equatorial frame\"\n",
    "format: \n",
    "  html:\n",
    "    code-fold: true\n",
    "jupyter: python3\n",
    "---"
   ]
  },
  {
   "cell_type": "markdown",
   "id": "c9e8478e-2d5a-45a0-984b-826bf87ec5d3",
   "metadata": {
    "tags": []
   },
   "source": [
    "# Geocentric Equatorial Frame"
   ]
  },
  {
   "cell_type": "markdown",
   "id": "4fcee266-5f99-4891-9458-35601b37d0e8",
   "metadata": {},
   "source": [
    "The **geocentric equatorial frame** is an Earth-centered, inertial coordinate system widely used in orbital mechanics. Its **origin is at the Earth's center**, with the **Z-axis** aligned with the planet’s rotation axis (pointing toward the North Pole). The **X-axis** points toward the **vernal equinox** — a specific direction in space where the Earth's **equatorial plane** intersects its **orbital plane**."
   ]
  },
  {
   "cell_type": "markdown",
   "id": "45dfb2cb-8608-410c-891b-8a8e3ba48e29",
   "metadata": {
    "tags": []
   },
   "source": [
    "Let $\\vec{\\rho}$ be a vector denoted in the geocentric equatorial frame. Let $\\hat{\\mathbf{u}}_{\\rho}$ be the unit vector in the direction of the vector. The unit vector $\\hat{\\mathbf{u}}_{\\rho}$ can be expressed in terms of the base vectors $\\hat{\\mathbf{I}}$, $\\hat{\\mathbf{J}}$, and $\\hat{\\mathbf{K}}$. If $l$, $m$, and $n$ are components of $\\hat{\\mathbf{u}}_{\\rho}$, then\n",
    "\n",
    "$$\n",
    "\\begin{equation}\n",
    "\\hat{\\mathbf{u}}_{\\rho}=l \\hat{\\mathbf{I}}+m \\hat{\\mathbf{J}}+n \\hat{\\mathbf{K}}=\\cos \\delta \\cos \\alpha \\hat{\\mathbf{I}}+\\cos \\delta \\sin \\alpha \\hat{\\mathbf{J}}+\\sin \\delta \\hat{\\mathbf{K}}\n",
    "\\end{equation}\n",
    "$$"
   ]
  },
  {
   "cell_type": "markdown",
   "id": "58412c42-8c1a-444d-92cf-2d06b8cd202e",
   "metadata": {
    "tags": []
   },
   "source": [
    "$$\n",
    "\\begin{align}\n",
    "\\nabla \\times \\vec{\\mathbf{B}} -\\, \\frac1c\\, \\frac{\\partial\\vec{\\mathbf{E}}}{\\partial t} & = \\frac{4\\pi}{c}\\vec{\\mathbf{j}} \\\\\n",
    "\\nabla \\cdot \\vec{\\mathbf{E}} & = 4 \\pi \\rho \\\\\n",
    "\\nabla \\times \\vec{\\mathbf{E}}\\, +\\, \\frac1c\\, \\frac{\\partial\\vec{\\mathbf{B}}}{\\partial t} & = \\vec{\\mathbf{0}} \\\\\n",
    "\\nabla \\cdot \\vec{\\mathbf{B}} & = 0\n",
    "\\end{align}\n",
    "$$ {#eq-three}"
   ]
  },
  {
   "cell_type": "markdown",
   "id": "04cd43f3-6f40-4cda-a0df-3aff842bc28c",
   "metadata": {},
   "source": [
    "Black-Scholes (@eq-black-scholes) is a mathematical model that seeks to explain the behavior of financial derivatives, most commonly options:\n",
    "\n",
    "$$\n",
    "\\frac{\\partial \\mathrm C}{ \\partial \\mathrm t } + \\frac{1}{2}\\sigma^{2} \\mathrm S^{2}\n",
    "\\frac{\\partial^{2} \\mathrm C}{\\partial \\mathrm S^2}\n",
    "  + \\mathrm r \\mathrm S \\frac{\\partial \\mathrm C}{\\partial \\mathrm S}\\ =\n",
    "  \\mathrm r \\mathrm C \n",
    "$$ {#eq-black-scholes}"
   ]
  },
  {
   "cell_type": "markdown",
   "id": "2568a288-40a3-48b5-a985-cdb557205260",
   "metadata": {},
   "source": [
    "$$\n",
    "E = mc^{2}\n",
    "$$ {#eq-einstein}\n",
    "\n",
    "If you are saying (@eq-black-scholes) and (@eq-einstein) can be added, you are just bullshitting."
   ]
  },
  {
   "cell_type": "markdown",
   "id": "23914113-d3eb-4a6a-98ea-8d83724eab9f",
   "metadata": {},
   "source": [
    "(@eq-three) are called Maxwell Equations."
   ]
  }
 ],
 "metadata": {
  "kernelspec": {
   "display_name": "Python 3 (ipykernel)",
   "language": "python",
   "name": "python3"
  },
  "language_info": {
   "codemirror_mode": {
    "name": "ipython",
    "version": 3
   },
   "file_extension": ".py",
   "mimetype": "text/x-python",
   "name": "python",
   "nbconvert_exporter": "python",
   "pygments_lexer": "ipython3",
   "version": "3.11.4"
  }
 },
 "nbformat": 4,
 "nbformat_minor": 5
}
